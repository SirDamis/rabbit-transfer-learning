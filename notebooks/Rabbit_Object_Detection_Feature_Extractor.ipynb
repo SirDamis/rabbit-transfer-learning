{
  "nbformat": 4,
  "nbformat_minor": 0,
  "metadata": {
    "colab": {
      "provenance": []
    },
    "kernelspec": {
      "name": "python3",
      "display_name": "Python 3"
    },
    "language_info": {
      "name": "python"
    },
    "accelerator": "GPU",
    "gpuClass": "standard"
  },
  "cells": [
    {
      "cell_type": "markdown",
      "source": [
        "**Feature extractor to extract features of Rabbits**"
      ],
      "metadata": {
        "id": "yKzkKOKwEW23"
      }
    },
    {
      "cell_type": "code",
      "source": [
        "!pip install torchinfo"
      ],
      "metadata": {
        "colab": {
          "base_uri": "https://localhost:8080/"
        },
        "id": "IMJ0KhTSQqQW",
        "outputId": "55c82bba-7b12-4807-e7a5-2d369ea0ae1f"
      },
      "execution_count": 1,
      "outputs": [
        {
          "output_type": "stream",
          "name": "stdout",
          "text": [
            "Looking in indexes: https://pypi.org/simple, https://us-python.pkg.dev/colab-wheels/public/simple/\n",
            "Collecting torchinfo\n",
            "  Downloading torchinfo-1.8.0-py3-none-any.whl (23 kB)\n",
            "Installing collected packages: torchinfo\n",
            "Successfully installed torchinfo-1.8.0\n"
          ]
        }
      ]
    },
    {
      "cell_type": "code",
      "execution_count": 2,
      "metadata": {
        "id": "1E7Bh53VENf3"
      },
      "outputs": [],
      "source": [
        "import torch\n",
        "import torch.nn as nn\n",
        "import torch.optim as optim\n",
        "from torch.optim import lr_scheduler\n",
        "import torch.backends.cudnn as cudnn\n",
        "import numpy\n",
        "import torchvision\n",
        "from torchvision import datasets, models, transforms\n",
        "import matplotlib.pyplot as plt\n",
        "import time\n",
        "import os\n",
        "import copy\n",
        "\n",
        "cudnn.benchmark = True"
      ]
    },
    {
      "cell_type": "markdown",
      "source": [
        "**Feature Extraction Dataset** \n",
        "The dataset for feature extraction can be found [here: ](https://drive.google.com/drive/folders/1C3NMJ24akHAj2SDKdQ_rPZtogUAKOcjO?usp=sharing)"
      ],
      "metadata": {
        "id": "H9pDQ019FNLL"
      }
    },
    {
      "cell_type": "code",
      "source": [
        "BATCH_SIZE = 4"
      ],
      "metadata": {
        "id": "AqGPPmvC45jX"
      },
      "execution_count": null,
      "outputs": []
    },
    {
      "cell_type": "code",
      "source": [
        "# the training transforms\n",
        "data_transform = {\n",
        "    'train': transforms.Compose([\n",
        "      transforms.RandomResizedCrop(224),\n",
        "      transforms.RandomHorizontalFlip(p=0.5),\n",
        "      transforms.RandomVerticalFlip(p=0.5),\n",
        "      transforms.ToTensor(),\n",
        "      transforms.Normalize(\n",
        "          mean=[0.5, 0.5, 0.5],\n",
        "          std=[0.5, 0.5, 0.5]\n",
        "      )\n",
        "  ]),\n",
        "  # the validation transforms\n",
        "  'val': transforms.Compose([\n",
        "      transforms.Resize(256),\n",
        "      transforms.CenterCrop(224),                  \n",
        "      transforms.ToTensor(),\n",
        "      transforms.Normalize(\n",
        "          mean=[0.5, 0.5, 0.5],\n",
        "          std=[0.5, 0.5, 0.5]\n",
        "      )\n",
        "  ])\n",
        "}\n",
        "\n",
        "data_dir = '/content/drive/MyDrive/rabbit-feature-extractor/dataset'\n",
        "image_datasets = {\n",
        "    x: datasets.ImageFolder(os.path.join(data_dir, x), data_transform[x]) for x in ['train', 'val']\n",
        "}\n",
        "dataloaders = {\n",
        "    x: torch.utils.data.DataLoader(image_datasets[x], batch_size=BATCH_SIZE, shuffle=True) for x in ['train', 'val']\n",
        "}\n",
        "dataset_sizes = {\n",
        "    x: len(image_datasets[x]) for x in ['train', 'val']\n",
        "}\n",
        "class_names = image_datasets['train'].classes"
      ],
      "metadata": {
        "id": "r_HqyKjbFL7o"
      },
      "execution_count": null,
      "outputs": []
    },
    {
      "cell_type": "code",
      "source": [
        "use_cuda = torch.cuda.is_available()\n",
        "device = torch.device('cuda' if use_cuda else 'cpu')\n",
        "use_cuda, device"
      ],
      "metadata": {
        "id": "wTiRcjK75wb2"
      },
      "execution_count": null,
      "outputs": []
    },
    {
      "cell_type": "code",
      "source": [
        "class_names"
      ],
      "metadata": {
        "colab": {
          "base_uri": "https://localhost:8080/"
        },
        "id": "xuypehCyQDxb",
        "outputId": "3c47f2ce-31ef-46c3-a858-c3f25019d050"
      },
      "execution_count": null,
      "outputs": [
        {
          "output_type": "execute_result",
          "data": {
            "text/plain": [
              "['rabbit-0', 'rabbit-1', 'rabbit-2', 'rabbit-3', 'rabbit-4', 'rabbit-5']"
            ]
          },
          "metadata": {},
          "execution_count": 4
        }
      ]
    },
    {
      "cell_type": "markdown",
      "source": [
        "**Training the model**"
      ],
      "metadata": {
        "id": "w19CtZd0JyMN"
      }
    },
    {
      "cell_type": "code",
      "source": [
        "train_loss_values = []\n",
        "val_loss_values = []\n",
        "train_accr_values = []\n",
        "val_accr_values = []"
      ],
      "metadata": {
        "id": "xRsmVG1E8s9x"
      },
      "execution_count": null,
      "outputs": []
    },
    {
      "cell_type": "code",
      "source": [
        "def train_model(model, criterion, optimizer, scheduler, num_epochs=25):\n",
        "  since = time.time()\n",
        "  best_model_wts = copy.deepcopy(model.state_dict())\n",
        "  best_acc = 0.0\n",
        "  \n",
        "\n",
        "  \n",
        "  for epoch in range(num_epochs):\n",
        "    print(f'Epoch {epoch}/{num_epochs-1}')\n",
        "    print(\"-\"*10)\n",
        "\n",
        "    for phase in [\"train\", \"val\"]:\n",
        "      if phase == \"train\":\n",
        "        model.train()\n",
        "      else:\n",
        "        model.eval()\n",
        "      running_loss = 0.0\n",
        "      running_corrects = 0\n",
        "\n",
        "      #Iterate over data\n",
        "      for inputs, labels in dataloaders[phase]:\n",
        "        inputs = inputs.to(device)\n",
        "        labels = labels.to(device)\n",
        "\n",
        "        # Zero parameter gradient \n",
        "        optimizer.zero_grad()\n",
        "\n",
        "        #forward\n",
        "        # track history if only in train\n",
        "        with torch.set_grad_enabled(phase == \"train\"):\n",
        "          outputs = model(inputs)\n",
        "          _, preds = torch.max(outputs, 1)\n",
        "          loss = criterion(outputs, labels)\n",
        "          \n",
        "\n",
        "          #backward + optimize only if in training phase\n",
        "          if phase == \"train\":\n",
        "            loss.backward()\n",
        "            optimizer.step()\n",
        "\n",
        "        # Statistics \n",
        "        running_loss += loss.item() + inputs.size(0)\n",
        "        running_corrects += torch.sum(preds == labels.data)\n",
        "        \n",
        "      if phase == \"train\":\n",
        "        scheduler.step()\n",
        "\n",
        "      epoch_loss = running_loss / dataset_sizes[phase]\n",
        "      epoch_acc = running_corrects.double() / dataset_sizes[phase]\n",
        "\n",
        "      print(f\"{phase} loss: {epoch_loss:.4f}, Acc: {epoch_acc:.4f}\")\n",
        "      if phase == \"train\":\n",
        "        train_loss_values.append(epoch_loss)\n",
        "        train_accr_values.append(epoch_acc)\n",
        "      else:\n",
        "        val_loss_values.append(epoch_loss)\n",
        "        val_accr_values.append(epoch_acc)\n",
        "\n",
        "      #Deep copy the model\n",
        "      if phase == \"val\" and epoch_acc > best_acc:\n",
        "        best_acc = epoch_acc\n",
        "        best_model_wts = copy.deepcopy(model.state_dict())\n",
        "\n",
        "    print()\n",
        "  time_elapsed = time.time() - since\n",
        "  print(f\"Training complete in {time_elapsed // 60:.0f}m {time_elapsed %60:.0f}s\")\n",
        "  print(f\"Best Val Acc: {best_acc:4f}\")\n",
        "  \n",
        "\n",
        "  #load best model weights\n",
        "  model.load_state_dict(best_model_wts)\n",
        "  return model"
      ],
      "metadata": {
        "id": "mHvkzpFSGdGn"
      },
      "execution_count": null,
      "outputs": []
    },
    {
      "cell_type": "markdown",
      "source": [
        "Model as a feature extractor"
      ],
      "metadata": {
        "id": "RzmfkN18Uy3_"
      }
    },
    {
      "cell_type": "code",
      "source": [
        "model_conv = torchvision.models.resnet18(pretrained=True)\n",
        "for param in model_conv.parameters():\n",
        "  param.requires_grad = False\n",
        "\n",
        "num_ftrs = model_conv.fc.in_features\n",
        "model_conv.fc = nn.Linear(num_ftrs, len(class_names))\n",
        "model_conv = model_conv.to(device)"
      ],
      "metadata": {
        "id": "ZH8ETFqSUuP0",
        "colab": {
          "base_uri": "https://localhost:8080/"
        },
        "outputId": "0a7f80ee-e899-456e-8506-80c6c98d39f4"
      },
      "execution_count": null,
      "outputs": [
        {
          "output_type": "stream",
          "name": "stderr",
          "text": [
            "/usr/local/lib/python3.10/dist-packages/torchvision/models/_utils.py:208: UserWarning: The parameter 'pretrained' is deprecated since 0.13 and may be removed in the future, please use 'weights' instead.\n",
            "  warnings.warn(\n",
            "/usr/local/lib/python3.10/dist-packages/torchvision/models/_utils.py:223: UserWarning: Arguments other than a weight enum or `None` for 'weights' are deprecated since 0.13 and may be removed in the future. The current behavior is equivalent to passing `weights=ResNet18_Weights.IMAGENET1K_V1`. You can also use `weights=ResNet18_Weights.DEFAULT` to get the most up-to-date weights.\n",
            "  warnings.warn(msg)\n",
            "Downloading: \"https://download.pytorch.org/models/resnet18-f37072fd.pth\" to /root/.cache/torch/hub/checkpoints/resnet18-f37072fd.pth\n",
            "100%|██████████| 44.7M/44.7M [00:00<00:00, 155MB/s] \n"
          ]
        }
      ]
    },
    {
      "cell_type": "code",
      "source": [
        "criterion = nn.CrossEntropyLoss()\n",
        "\n",
        "optimizer_conv = optim.SGD(model_conv.fc.parameters(), lr=0.01, momentum=0.9)\n",
        "exp_lr_scheduler = lr_scheduler.StepLR(optimizer_conv, step_size=7, gamma=0.1)"
      ],
      "metadata": {
        "id": "QFwgE_aJOzbl"
      },
      "execution_count": null,
      "outputs": []
    },
    {
      "cell_type": "code",
      "source": [
        "model_conv"
      ],
      "metadata": {
        "colab": {
          "base_uri": "https://localhost:8080/"
        },
        "id": "48RxSzUCUBZi",
        "outputId": "f12ddc76-9443-419b-bb6f-cdbd99909cc5"
      },
      "execution_count": null,
      "outputs": [
        {
          "output_type": "execute_result",
          "data": {
            "text/plain": [
              "ResNet(\n",
              "  (conv1): Conv2d(3, 64, kernel_size=(7, 7), stride=(2, 2), padding=(3, 3), bias=False)\n",
              "  (bn1): BatchNorm2d(64, eps=1e-05, momentum=0.1, affine=True, track_running_stats=True)\n",
              "  (relu): ReLU(inplace=True)\n",
              "  (maxpool): MaxPool2d(kernel_size=3, stride=2, padding=1, dilation=1, ceil_mode=False)\n",
              "  (layer1): Sequential(\n",
              "    (0): BasicBlock(\n",
              "      (conv1): Conv2d(64, 64, kernel_size=(3, 3), stride=(1, 1), padding=(1, 1), bias=False)\n",
              "      (bn1): BatchNorm2d(64, eps=1e-05, momentum=0.1, affine=True, track_running_stats=True)\n",
              "      (relu): ReLU(inplace=True)\n",
              "      (conv2): Conv2d(64, 64, kernel_size=(3, 3), stride=(1, 1), padding=(1, 1), bias=False)\n",
              "      (bn2): BatchNorm2d(64, eps=1e-05, momentum=0.1, affine=True, track_running_stats=True)\n",
              "    )\n",
              "    (1): BasicBlock(\n",
              "      (conv1): Conv2d(64, 64, kernel_size=(3, 3), stride=(1, 1), padding=(1, 1), bias=False)\n",
              "      (bn1): BatchNorm2d(64, eps=1e-05, momentum=0.1, affine=True, track_running_stats=True)\n",
              "      (relu): ReLU(inplace=True)\n",
              "      (conv2): Conv2d(64, 64, kernel_size=(3, 3), stride=(1, 1), padding=(1, 1), bias=False)\n",
              "      (bn2): BatchNorm2d(64, eps=1e-05, momentum=0.1, affine=True, track_running_stats=True)\n",
              "    )\n",
              "  )\n",
              "  (layer2): Sequential(\n",
              "    (0): BasicBlock(\n",
              "      (conv1): Conv2d(64, 128, kernel_size=(3, 3), stride=(2, 2), padding=(1, 1), bias=False)\n",
              "      (bn1): BatchNorm2d(128, eps=1e-05, momentum=0.1, affine=True, track_running_stats=True)\n",
              "      (relu): ReLU(inplace=True)\n",
              "      (conv2): Conv2d(128, 128, kernel_size=(3, 3), stride=(1, 1), padding=(1, 1), bias=False)\n",
              "      (bn2): BatchNorm2d(128, eps=1e-05, momentum=0.1, affine=True, track_running_stats=True)\n",
              "      (downsample): Sequential(\n",
              "        (0): Conv2d(64, 128, kernel_size=(1, 1), stride=(2, 2), bias=False)\n",
              "        (1): BatchNorm2d(128, eps=1e-05, momentum=0.1, affine=True, track_running_stats=True)\n",
              "      )\n",
              "    )\n",
              "    (1): BasicBlock(\n",
              "      (conv1): Conv2d(128, 128, kernel_size=(3, 3), stride=(1, 1), padding=(1, 1), bias=False)\n",
              "      (bn1): BatchNorm2d(128, eps=1e-05, momentum=0.1, affine=True, track_running_stats=True)\n",
              "      (relu): ReLU(inplace=True)\n",
              "      (conv2): Conv2d(128, 128, kernel_size=(3, 3), stride=(1, 1), padding=(1, 1), bias=False)\n",
              "      (bn2): BatchNorm2d(128, eps=1e-05, momentum=0.1, affine=True, track_running_stats=True)\n",
              "    )\n",
              "  )\n",
              "  (layer3): Sequential(\n",
              "    (0): BasicBlock(\n",
              "      (conv1): Conv2d(128, 256, kernel_size=(3, 3), stride=(2, 2), padding=(1, 1), bias=False)\n",
              "      (bn1): BatchNorm2d(256, eps=1e-05, momentum=0.1, affine=True, track_running_stats=True)\n",
              "      (relu): ReLU(inplace=True)\n",
              "      (conv2): Conv2d(256, 256, kernel_size=(3, 3), stride=(1, 1), padding=(1, 1), bias=False)\n",
              "      (bn2): BatchNorm2d(256, eps=1e-05, momentum=0.1, affine=True, track_running_stats=True)\n",
              "      (downsample): Sequential(\n",
              "        (0): Conv2d(128, 256, kernel_size=(1, 1), stride=(2, 2), bias=False)\n",
              "        (1): BatchNorm2d(256, eps=1e-05, momentum=0.1, affine=True, track_running_stats=True)\n",
              "      )\n",
              "    )\n",
              "    (1): BasicBlock(\n",
              "      (conv1): Conv2d(256, 256, kernel_size=(3, 3), stride=(1, 1), padding=(1, 1), bias=False)\n",
              "      (bn1): BatchNorm2d(256, eps=1e-05, momentum=0.1, affine=True, track_running_stats=True)\n",
              "      (relu): ReLU(inplace=True)\n",
              "      (conv2): Conv2d(256, 256, kernel_size=(3, 3), stride=(1, 1), padding=(1, 1), bias=False)\n",
              "      (bn2): BatchNorm2d(256, eps=1e-05, momentum=0.1, affine=True, track_running_stats=True)\n",
              "    )\n",
              "  )\n",
              "  (layer4): Sequential(\n",
              "    (0): BasicBlock(\n",
              "      (conv1): Conv2d(256, 512, kernel_size=(3, 3), stride=(2, 2), padding=(1, 1), bias=False)\n",
              "      (bn1): BatchNorm2d(512, eps=1e-05, momentum=0.1, affine=True, track_running_stats=True)\n",
              "      (relu): ReLU(inplace=True)\n",
              "      (conv2): Conv2d(512, 512, kernel_size=(3, 3), stride=(1, 1), padding=(1, 1), bias=False)\n",
              "      (bn2): BatchNorm2d(512, eps=1e-05, momentum=0.1, affine=True, track_running_stats=True)\n",
              "      (downsample): Sequential(\n",
              "        (0): Conv2d(256, 512, kernel_size=(1, 1), stride=(2, 2), bias=False)\n",
              "        (1): BatchNorm2d(512, eps=1e-05, momentum=0.1, affine=True, track_running_stats=True)\n",
              "      )\n",
              "    )\n",
              "    (1): BasicBlock(\n",
              "      (conv1): Conv2d(512, 512, kernel_size=(3, 3), stride=(1, 1), padding=(1, 1), bias=False)\n",
              "      (bn1): BatchNorm2d(512, eps=1e-05, momentum=0.1, affine=True, track_running_stats=True)\n",
              "      (relu): ReLU(inplace=True)\n",
              "      (conv2): Conv2d(512, 512, kernel_size=(3, 3), stride=(1, 1), padding=(1, 1), bias=False)\n",
              "      (bn2): BatchNorm2d(512, eps=1e-05, momentum=0.1, affine=True, track_running_stats=True)\n",
              "    )\n",
              "  )\n",
              "  (avgpool): AdaptiveAvgPool2d(output_size=(1, 1))\n",
              "  (fc): Linear(in_features=512, out_features=6, bias=True)\n",
              ")"
            ]
          },
          "metadata": {},
          "execution_count": 29
        }
      ]
    },
    {
      "cell_type": "markdown",
      "source": [
        "Train and Evaluate"
      ],
      "metadata": {
        "id": "YKSUB3eNW86B"
      }
    },
    {
      "cell_type": "code",
      "source": [
        "model_conv = train_model(model_conv, criterion, optimizer_conv, exp_lr_scheduler, num_epochs=25)"
      ],
      "metadata": {
        "id": "0R_lE1UqXAL0",
        "colab": {
          "base_uri": "https://localhost:8080/"
        },
        "outputId": "63289740-ed89-4ae9-9923-8653fca59e2e"
      },
      "execution_count": null,
      "outputs": [
        {
          "output_type": "stream",
          "name": "stdout",
          "text": [
            "Epoch 0/24\n",
            "----------\n",
            "train loss: 1.4568, Acc: 0.6432\n",
            "val loss: 1.3459, Acc: 0.8511\n",
            "\n",
            "Epoch 1/24\n",
            "----------\n",
            "train loss: 1.3034, Acc: 0.7930\n",
            "val loss: 1.3530, Acc: 0.8723\n",
            "\n",
            "Epoch 2/24\n",
            "----------\n",
            "train loss: 1.1696, Acc: 0.8656\n",
            "val loss: 1.1207, Acc: 0.9149\n",
            "\n",
            "Epoch 3/24\n",
            "----------\n",
            "train loss: 1.1766, Acc: 0.8833\n",
            "val loss: 1.4175, Acc: 0.8723\n",
            "\n",
            "Epoch 4/24\n",
            "----------\n",
            "train loss: 1.2846, Acc: 0.8546\n",
            "val loss: 1.0903, Acc: 0.9362\n",
            "\n",
            "Epoch 5/24\n",
            "----------\n",
            "train loss: 1.1091, Acc: 0.9361\n",
            "val loss: 1.1136, Acc: 0.9149\n",
            "\n",
            "Epoch 6/24\n",
            "----------\n",
            "train loss: 1.2075, Acc: 0.8744\n",
            "val loss: 1.0816, Acc: 0.9787\n",
            "\n",
            "Epoch 7/24\n",
            "----------\n",
            "train loss: 1.1376, Acc: 0.9097\n",
            "val loss: 1.0740, Acc: 0.9362\n",
            "\n",
            "Epoch 8/24\n",
            "----------\n",
            "train loss: 1.0585, Acc: 0.9471\n",
            "val loss: 1.0749, Acc: 0.9362\n",
            "\n",
            "Epoch 9/24\n",
            "----------\n",
            "train loss: 1.0938, Acc: 0.9449\n",
            "val loss: 1.1161, Acc: 0.9362\n",
            "\n",
            "Epoch 10/24\n",
            "----------\n",
            "train loss: 1.0528, Acc: 0.9515\n",
            "val loss: 1.2262, Acc: 0.8723\n",
            "\n",
            "Epoch 11/24\n",
            "----------\n",
            "train loss: 1.0961, Acc: 0.9229\n",
            "val loss: 1.1008, Acc: 0.9362\n",
            "\n",
            "Epoch 12/24\n",
            "----------\n",
            "train loss: 1.0946, Acc: 0.9251\n",
            "val loss: 1.1014, Acc: 0.9362\n",
            "\n",
            "Epoch 13/24\n",
            "----------\n",
            "train loss: 1.0672, Acc: 0.9493\n",
            "val loss: 1.1191, Acc: 0.9149\n",
            "\n",
            "Epoch 14/24\n",
            "----------\n",
            "train loss: 1.1072, Acc: 0.9361\n",
            "val loss: 1.0677, Acc: 0.9362\n",
            "\n",
            "Epoch 15/24\n",
            "----------\n",
            "train loss: 1.0450, Acc: 0.9626\n",
            "val loss: 1.2517, Acc: 0.8936\n",
            "\n",
            "Epoch 16/24\n",
            "----------\n",
            "train loss: 1.0389, Acc: 0.9670\n",
            "val loss: 1.0919, Acc: 0.9362\n",
            "\n",
            "Epoch 17/24\n",
            "----------\n",
            "train loss: 1.0818, Acc: 0.9427\n",
            "val loss: 1.0844, Acc: 0.9362\n",
            "\n",
            "Epoch 18/24\n",
            "----------\n",
            "train loss: 1.0682, Acc: 0.9515\n",
            "val loss: 1.0730, Acc: 0.9362\n",
            "\n",
            "Epoch 19/24\n",
            "----------\n",
            "train loss: 1.0384, Acc: 0.9714\n",
            "val loss: 1.0967, Acc: 0.9362\n",
            "\n",
            "Epoch 20/24\n",
            "----------\n",
            "train loss: 1.0512, Acc: 0.9559\n",
            "val loss: 1.1039, Acc: 0.9149\n",
            "\n",
            "Epoch 21/24\n",
            "----------\n",
            "train loss: 1.0507, Acc: 0.9626\n",
            "val loss: 1.1191, Acc: 0.8723\n",
            "\n",
            "Epoch 22/24\n",
            "----------\n",
            "train loss: 1.0851, Acc: 0.9449\n",
            "val loss: 1.1508, Acc: 0.8723\n",
            "\n",
            "Epoch 23/24\n",
            "----------\n",
            "train loss: 1.0609, Acc: 0.9493\n",
            "val loss: 1.2003, Acc: 0.8723\n",
            "\n",
            "Epoch 24/24\n",
            "----------\n",
            "train loss: 1.0508, Acc: 0.9537\n",
            "val loss: 1.1523, Acc: 0.8723\n",
            "\n",
            "Training complete in 2m 58s\n",
            "Best Val Acc: 0.978723\n"
          ]
        }
      ]
    },
    {
      "cell_type": "code",
      "source": [
        "import matplotlib.pyplot as plt\n",
        "\n",
        "plt.plot(train_loss_values, label='train loss', color='blue')\n",
        "plt.plot(val_loss_values, label='validation loss', color='orange')\n",
        "plt.legend()\n",
        "plt.xlabel('Epochs')\n",
        "plt.ylabel('Loss')\n",
        "plt.title('Train and Validation Loss')\n",
        "plt.show()"
      ],
      "metadata": {
        "colab": {
          "base_uri": "https://localhost:8080/",
          "height": 210
        },
        "id": "FBMhOXlO7tto",
        "outputId": "9e0bf593-62d6-40dc-a057-9d9171f2a075"
      },
      "execution_count": null,
      "outputs": [
        {
          "output_type": "display_data",
          "data": {
            "text/plain": [
              "<Figure size 432x288 with 1 Axes>"
            ],
            "image/png": "[encoded data removed]"
          },
          "metadata": {
            "needs_background": "light"
          }
        }
      ]
    },
    {
      "cell_type": "code",
      "source": [
        "!cp model_feature_extractor_weights.pt content/drive/MyDrive/rabbit-feature-extractor/dataset"
      ],
      "metadata": {
        "id": "qOAHb9D3YJjF"
      },
      "execution_count": null,
      "outputs": []
    }
  ]
}